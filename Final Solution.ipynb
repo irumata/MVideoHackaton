{
 "cells": [
  {
   "cell_type": "code",
   "execution_count": 1,
   "metadata": {
    "collapsed": false
   },
   "outputs": [
    {
     "name": "stderr",
     "output_type": "stream",
     "text": [
      "Using TensorFlow backend.\n"
     ]
    }
   ],
   "source": [
    "import numpy as np\n",
    "from keras.preprocessing import sequence, text\n",
    "from keras.models import Sequential\n",
    "from keras.layers import Dense, Activation, Embedding, LSTM, SpatialDropout1D, Dropout, Flatten\n",
    "#from keras.datasets import imdb\n",
    "import pandas as pd\n",
    "import numpy as np\n",
    "#устанавливаем seed\n",
    "np.random.seed(42)\n",
    "import pymorphy2\n",
    "import re\n",
    "import sklearn.feature_extraction.text as fex\n"
   ]
  },
  {
   "cell_type": "code",
   "execution_count": 2,
   "metadata": {
    "collapsed": false
   },
   "outputs": [],
   "source": [
    "prodIdColName = \"prodId\"\n",
    "subColName = \"SubName\"\n",
    "sentColName = \"sentence\"\n",
    "trainDF = pd.DataFrame({prodIdColName: [1, 1, 1,2], subColName: ['телефон', 'смартвон', 'жизнь', 'жизнь'], sentColName:['SENTтелефон', 'SENTсмартвон', 'SENT00жизнь', 'SENT2жизнь'] })"
   ]
  },
  {
   "cell_type": "code",
   "execution_count": 3,
   "metadata": {
    "collapsed": false
   },
   "outputs": [],
   "source": [
    "testDF = pd.DataFrame({prodIdColName: [3, 3, 3,4], subColName: ['телефон', 'смартвон', 'жизнь', 'жизнь'], sentColName:['3SENTтелефон', '3SENTсмартвон', '3SENT00жизнь', '3SENT2жизнь'] })"
   ]
  },
  {
   "cell_type": "code",
   "execution_count": null,
   "metadata": {
    "collapsed": true
   },
   "outputs": [],
   "source": []
  },
  {
   "cell_type": "code",
   "execution_count": 4,
   "metadata": {
    "collapsed": true
   },
   "outputs": [],
   "source": [
    "full = trainDF.append(testDF)"
   ]
  },
  {
   "cell_type": "code",
   "execution_count": 5,
   "metadata": {
    "collapsed": false
   },
   "outputs": [],
   "source": [
    "df_train = pd.read_csv('dataset1.csv', delimiter=',', encoding='utf-8', error_bad_lines=False)\n"
   ]
  },
  {
   "cell_type": "code",
   "execution_count": 6,
   "metadata": {
    "collapsed": false
   },
   "outputs": [
    {
     "data": {
      "text/html": [
       "<div>\n",
       "<style>\n",
       "    .dataframe thead tr:only-child th {\n",
       "        text-align: right;\n",
       "    }\n",
       "\n",
       "    .dataframe thead th {\n",
       "        text-align: left;\n",
       "    }\n",
       "\n",
       "    .dataframe tbody tr th {\n",
       "        vertical-align: top;\n",
       "    }\n",
       "</style>\n",
       "<table border=\"1\" class=\"dataframe\">\n",
       "  <thead>\n",
       "    <tr style=\"text-align: right;\">\n",
       "      <th></th>\n",
       "      <th>Unnamed: 0</th>\n",
       "      <th>PRODUCT</th>\n",
       "      <th>CATEGORY_ID</th>\n",
       "      <th>BRAND_ID</th>\n",
       "      <th>CATEGORY_NAME</th>\n",
       "      <th>BRAND_NAME</th>\n",
       "      <th>TYPE</th>\n",
       "      <th>SUBJECT</th>\n",
       "      <th>TEXT</th>\n",
       "      <th>POSTED_DATE</th>\n",
       "      <th>RATING</th>\n",
       "      <th>BENEFITS</th>\n",
       "      <th>DRAWBACKS</th>\n",
       "      <th>RECOMMENDED</th>\n",
       "      <th>LIKES_COUNT</th>\n",
       "      <th>DISLIKES_COUNT</th>\n",
       "    </tr>\n",
       "  </thead>\n",
       "  <tbody>\n",
       "    <tr>\n",
       "      <th>0</th>\n",
       "      <td>0</td>\n",
       "      <td>30024724</td>\n",
       "      <td>2060202</td>\n",
       "      <td>1900</td>\n",
       "      <td>PRINTERS LASER</td>\n",
       "      <td>Kyocera</td>\n",
       "      <td>REVIEW</td>\n",
       "      <td>NaN</td>\n",
       "      <td>Что особенно ценно - при профилактике принтера...</td>\n",
       "      <td>23.10.16 22:26:00</td>\n",
       "      <td>5.0</td>\n",
       "      <td>хорошая скорость печати, двусторонняя печать, ...</td>\n",
       "      <td>Рядом \"на стол\" не поставишь, место много зани...</td>\n",
       "      <td>1.0</td>\n",
       "      <td>2.0</td>\n",
       "      <td>0.0</td>\n",
       "    </tr>\n",
       "    <tr>\n",
       "      <th>1</th>\n",
       "      <td>1</td>\n",
       "      <td>30024724</td>\n",
       "      <td>2060202</td>\n",
       "      <td>1900</td>\n",
       "      <td>PRINTERS LASER</td>\n",
       "      <td>Kyocera</td>\n",
       "      <td>REVIEW</td>\n",
       "      <td>NaN</td>\n",
       "      <td>Он у нас три месяца в офисе стоит уже - большо...</td>\n",
       "      <td>17.04.16 11:17:42</td>\n",
       "      <td>5.0</td>\n",
       "      <td>NaN</td>\n",
       "      <td>NaN</td>\n",
       "      <td>NaN</td>\n",
       "      <td>0.0</td>\n",
       "      <td>2.0</td>\n",
       "    </tr>\n",
       "    <tr>\n",
       "      <th>2</th>\n",
       "      <td>2</td>\n",
       "      <td>30024725</td>\n",
       "      <td>2060202</td>\n",
       "      <td>1900</td>\n",
       "      <td>PRINTERS LASER</td>\n",
       "      <td>Kyocera</td>\n",
       "      <td>REVIEW</td>\n",
       "      <td>NaN</td>\n",
       "      <td>Просто небо и земля с тем принтером, который у...</td>\n",
       "      <td>15.04.16 20:22:47</td>\n",
       "      <td>4.0</td>\n",
       "      <td>NaN</td>\n",
       "      <td>NaN</td>\n",
       "      <td>NaN</td>\n",
       "      <td>0.0</td>\n",
       "      <td>1.0</td>\n",
       "    </tr>\n",
       "    <tr>\n",
       "      <th>3</th>\n",
       "      <td>3</td>\n",
       "      <td>30024727</td>\n",
       "      <td>2060101</td>\n",
       "      <td>1900</td>\n",
       "      <td>ALL-IN-ONE LASER</td>\n",
       "      <td>Kyocera</td>\n",
       "      <td>REVIEW</td>\n",
       "      <td>С такой вроде бы навороченной техникой все смо...</td>\n",
       "      <td>У нас в кабинете недавно его поставили. Первое...</td>\n",
       "      <td>18.04.16 20:01:57</td>\n",
       "      <td>5.0</td>\n",
       "      <td>NaN</td>\n",
       "      <td>NaN</td>\n",
       "      <td>NaN</td>\n",
       "      <td>0.0</td>\n",
       "      <td>0.0</td>\n",
       "    </tr>\n",
       "    <tr>\n",
       "      <th>4</th>\n",
       "      <td>4</td>\n",
       "      <td>30024727</td>\n",
       "      <td>2060101</td>\n",
       "      <td>1900</td>\n",
       "      <td>ALL-IN-ONE LASER</td>\n",
       "      <td>Kyocera</td>\n",
       "      <td>REVIEW</td>\n",
       "      <td>NaN</td>\n",
       "      <td>Очень многофункциональная штука.  Есть все нео...</td>\n",
       "      <td>23.04.16 12:03:39</td>\n",
       "      <td>5.0</td>\n",
       "      <td>NaN</td>\n",
       "      <td>NaN</td>\n",
       "      <td>NaN</td>\n",
       "      <td>1.0</td>\n",
       "      <td>0.0</td>\n",
       "    </tr>\n",
       "  </tbody>\n",
       "</table>\n",
       "</div>"
      ],
      "text/plain": [
       "   Unnamed: 0   PRODUCT  CATEGORY_ID  BRAND_ID  \\\n",
       "0           0  30024724      2060202      1900   \n",
       "1           1  30024724      2060202      1900   \n",
       "2           2  30024725      2060202      1900   \n",
       "3           3  30024727      2060101      1900   \n",
       "4           4  30024727      2060101      1900   \n",
       "\n",
       "                                CATEGORY_NAME            BRAND_NAME    TYPE  \\\n",
       "0  PRINTERS LASER                              Kyocera               REVIEW   \n",
       "1  PRINTERS LASER                              Kyocera               REVIEW   \n",
       "2  PRINTERS LASER                              Kyocera               REVIEW   \n",
       "3  ALL-IN-ONE LASER                            Kyocera               REVIEW   \n",
       "4  ALL-IN-ONE LASER                            Kyocera               REVIEW   \n",
       "\n",
       "                                             SUBJECT  \\\n",
       "0                                                NaN   \n",
       "1                                                NaN   \n",
       "2                                                NaN   \n",
       "3  С такой вроде бы навороченной техникой все смо...   \n",
       "4                                                NaN   \n",
       "\n",
       "                                                TEXT        POSTED_DATE  \\\n",
       "0  Что особенно ценно - при профилактике принтера...  23.10.16 22:26:00   \n",
       "1  Он у нас три месяца в офисе стоит уже - большо...  17.04.16 11:17:42   \n",
       "2  Просто небо и земля с тем принтером, который у...  15.04.16 20:22:47   \n",
       "3  У нас в кабинете недавно его поставили. Первое...  18.04.16 20:01:57   \n",
       "4  Очень многофункциональная штука.  Есть все нео...  23.04.16 12:03:39   \n",
       "\n",
       "   RATING                                           BENEFITS  \\\n",
       "0     5.0  хорошая скорость печати, двусторонняя печать, ...   \n",
       "1     5.0                                                NaN   \n",
       "2     4.0                                                NaN   \n",
       "3     5.0                                                NaN   \n",
       "4     5.0                                                NaN   \n",
       "\n",
       "                                           DRAWBACKS  RECOMMENDED  \\\n",
       "0  Рядом \"на стол\" не поставишь, место много зани...          1.0   \n",
       "1                                                NaN          NaN   \n",
       "2                                                NaN          NaN   \n",
       "3                                                NaN          NaN   \n",
       "4                                                NaN          NaN   \n",
       "\n",
       "   LIKES_COUNT  DISLIKES_COUNT  \n",
       "0          2.0             0.0  \n",
       "1          0.0             2.0  \n",
       "2          0.0             1.0  \n",
       "3          0.0             0.0  \n",
       "4          1.0             0.0  "
      ]
     },
     "execution_count": 6,
     "metadata": {},
     "output_type": "execute_result"
    }
   ],
   "source": [
    "textColName = \"TEXT\"\n",
    "negatColName =  \"DRAWBACKS\"\n",
    "positColName = \"BENEFITS\"\n",
    "ratingColName = \"RATING\"\n",
    "catColName = \"CATEGORY_ID\"\n",
    "brandColName = \"BRAND_ID\"\n",
    "catNameColName= \"CATEGORY_NAME\"\n",
    "tovarIdColName = \"PRODUCT\"\n",
    "df_train.head()"
   ]
  },
  {
   "cell_type": "code",
   "execution_count": 7,
   "metadata": {
    "collapsed": false
   },
   "outputs": [],
   "source": [
    "morph = pymorphy2.MorphAnalyzer()\n",
    "\n",
    "def normalize(text):\n",
    "    return ' '.join([morph.parse(str(w))[0].normal_form for w in text.split()])\n",
    "def clean_text(text):\n",
    "    text = str(text)\n",
    "    text = text.replace(\"\\\\\", \" \").replace(u\"╚\", \" \").replace(u\"╩\", \" \")\n",
    "    text = text.lower()\n",
    "    text = re.sub('\\-\\s\\r\\n\\s{1,}|\\-\\s\\r\\n|\\r\\n', '', text) #deleting newlines and line-breaks\n",
    "    text = re.sub('[.,:;_%©?*,!@#$%^&()\\d]|[+=]|[[]|[]]|[/]|\"|\\s{2,}|-\\'>><`', ' ', text) #deleting symbols  \n",
    "    text = re.sub('-', ' ', text) #deleting symbols  \n",
    "    #text = ' '.join(word[:] for word in text.split() if len(word)>3)\n",
    "    #text = text.encode(\"utf-8\")\n",
    "    return text "
   ]
  },
  {
   "cell_type": "code",
   "execution_count": 8,
   "metadata": {
    "collapsed": true
   },
   "outputs": [],
   "source": [
    "#df_train[textColName]=df_train[textColName].apply(clean_text).apply(normalize)"
   ]
  },
  {
   "cell_type": "code",
   "execution_count": null,
   "metadata": {
    "collapsed": false
   },
   "outputs": [],
   "source": []
  },
  {
   "cell_type": "code",
   "execution_count": 12,
   "metadata": {
    "collapsed": false
   },
   "outputs": [],
   "source": [
    "#import tparser\n",
    "from tparser import tomita\n",
    "from tparser.tomita_parser import text_parse\n",
    "import pandas as pd"
   ]
  },
  {
   "cell_type": "code",
   "execution_count": 13,
   "metadata": {
    "collapsed": false
   },
   "outputs": [
    {
     "ename": "NameError",
     "evalue": "name 'testAllCut' is not defined",
     "output_type": "error",
     "traceback": [
      "\u001b[0;31m---------------------------------------------------------------------------\u001b[0m",
      "\u001b[0;31mNameError\u001b[0m                                 Traceback (most recent call last)",
      "\u001b[0;32m<ipython-input-13-ebfce68a5f7d>\u001b[0m in \u001b[0;36m<module>\u001b[0;34m()\u001b[0m\n\u001b[1;32m      1\u001b[0m \u001b[0mcatidNameForBuild\u001b[0m \u001b[0;34m=\u001b[0m \u001b[0;34m\"SMARTPHONES\"\u001b[0m\u001b[0;34m\u001b[0m\u001b[0m\n\u001b[0;32m----> 2\u001b[0;31m \u001b[0mcategory_data\u001b[0m \u001b[0;34m=\u001b[0m \u001b[0mtestAllCut\u001b[0m\u001b[0;34m[\u001b[0m\u001b[0mtestAllCut\u001b[0m\u001b[0;34m[\u001b[0m\u001b[0mcatNameColName\u001b[0m\u001b[0;34m]\u001b[0m\u001b[0;34m.\u001b[0m\u001b[0mstr\u001b[0m\u001b[0;34m.\u001b[0m\u001b[0mcontains\u001b[0m\u001b[0;34m(\u001b[0m\u001b[0mcatidNameForBuild\u001b[0m\u001b[0;34m)\u001b[0m\u001b[0;34m==\u001b[0m\u001b[0;32mTrue\u001b[0m\u001b[0;34m]\u001b[0m\u001b[0;34m\u001b[0m\u001b[0m\n\u001b[0m",
      "\u001b[0;31mNameError\u001b[0m: name 'testAllCut' is not defined"
     ]
    }
   ],
   "source": [
    "catidNameForBuild = \"SMARTPHONES\"\n",
    "category_data = testAllCut[testAllCut[catNameColName].str.contains(catidNameForBuild)==True]"
   ]
  },
  {
   "cell_type": "code",
   "execution_count": null,
   "metadata": {
    "collapsed": true
   },
   "outputs": [],
   "source": [
    "textAndProd = category_data.ix[:,[textColName,tovarIdColName]]\n",
    "textAndProdGrS = textAndProd.groupby(tovarIdColName )[tovarIdColName, textColName].agg(lambda x: \"{%s}\" % ', '.join(x)).reset_index()\n",
    "print(len(textAndProd))\n",
    "print(len(textAndProdGrS))"
   ]
  },
  {
   "cell_type": "code",
   "execution_count": null,
   "metadata": {
    "collapsed": true
   },
   "outputs": [],
   "source": [
    "tfidf = fex.TfidfVectorizer()"
   ]
  },
  {
   "cell_type": "code",
   "execution_count": null,
   "metadata": {
    "collapsed": true
   },
   "outputs": [],
   "source": [
    "tfIdfMatrix = tfidf.fit_transform(textAndProdGrS[textColName])\n",
    "ftNames = tfidf.get_feature_names()\n"
   ]
  }
 ],
 "metadata": {
  "kernelspec": {
   "display_name": "Python 3",
   "language": "python",
   "name": "python3"
  },
  "language_info": {
   "codemirror_mode": {
    "name": "ipython",
    "version": 3
   },
   "file_extension": ".py",
   "mimetype": "text/x-python",
   "name": "python",
   "nbconvert_exporter": "python",
   "pygments_lexer": "ipython3",
   "version": "3.6.0"
  }
 },
 "nbformat": 4,
 "nbformat_minor": 2
}
