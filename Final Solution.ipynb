{
 "cells": [
  {
   "cell_type": "code",
   "execution_count": null,
   "metadata": {
    "collapsed": false
   },
   "outputs": [],
   "source": [
    "import numpy as np\n",
    "import operator\n",
    "from keras.preprocessing import sequence, text\n",
    "from keras.models import Sequential\n",
    "from keras.layers import Dense, Activation, Embedding, LSTM, SpatialDropout1D, Dropout, Flatten\n",
    "#from keras.datasets import imdb\n",
    "import pandas as pd\n",
    "import numpy as np\n",
    "#устанавливаем seed\n",
    "np.random.seed(42)\n",
    "import pymorphy2\n",
    "import re\n",
    "import sklearn.feature_extraction.text as fex\n"
   ]
  },
  {
   "cell_type": "code",
   "execution_count": 2,
   "metadata": {
    "collapsed": false
   },
   "outputs": [],
   "source": [
    "prodIdColName = \"prodId\"\n",
    "subColName = \"SubName\"\n",
    "sentColName = \"sentence\"\n",
    "trainDF = pd.DataFrame({prodIdColName: [1, 1, 1,2], subColName: ['телефон', 'смартвон', 'жизнь', 'жизнь'], sentColName:['SENTтелефон', 'SENTсмартвон', 'SENT00жизнь', 'SENT2жизнь'] })"
   ]
  },
  {
   "cell_type": "code",
   "execution_count": 3,
   "metadata": {
    "collapsed": false
   },
   "outputs": [],
   "source": [
    "testDF = pd.DataFrame({prodIdColName: [3, 3, 3,4], subColName: ['телефон', 'смартвон', 'жизнь', 'жизнь'], sentColName:['3SENTтелефон', '3SENTсмартвон', '3SENT00жизнь', '3SENT2жизнь'] })"
   ]
  },
  {
   "cell_type": "code",
   "execution_count": null,
   "metadata": {
    "collapsed": true
   },
   "outputs": [],
   "source": []
  },
  {
   "cell_type": "code",
   "execution_count": 4,
   "metadata": {
    "collapsed": true
   },
   "outputs": [],
   "source": [
    "full = trainDF.append(testDF)"
   ]
  },
  {
   "cell_type": "code",
   "execution_count": 5,
   "metadata": {
    "collapsed": false
   },
   "outputs": [],
   "source": [
    "df_train = pd.read_csv('dataset1.csv', delimiter=',', encoding='utf-8', error_bad_lines=False)\n"
   ]
  },
  {
   "cell_type": "code",
   "execution_count": 6,
   "metadata": {
    "collapsed": false
   },
   "outputs": [
    {
     "data": {
      "text/html": [
       "<div>\n",
       "<style>\n",
       "    .dataframe thead tr:only-child th {\n",
       "        text-align: right;\n",
       "    }\n",
       "\n",
       "    .dataframe thead th {\n",
       "        text-align: left;\n",
       "    }\n",
       "\n",
       "    .dataframe tbody tr th {\n",
       "        vertical-align: top;\n",
       "    }\n",
       "</style>\n",
       "<table border=\"1\" class=\"dataframe\">\n",
       "  <thead>\n",
       "    <tr style=\"text-align: right;\">\n",
       "      <th></th>\n",
       "      <th>Unnamed: 0</th>\n",
       "      <th>PRODUCT</th>\n",
       "      <th>CATEGORY_ID</th>\n",
       "      <th>BRAND_ID</th>\n",
       "      <th>CATEGORY_NAME</th>\n",
       "      <th>BRAND_NAME</th>\n",
       "      <th>TYPE</th>\n",
       "      <th>SUBJECT</th>\n",
       "      <th>TEXT</th>\n",
       "      <th>POSTED_DATE</th>\n",
       "      <th>RATING</th>\n",
       "      <th>BENEFITS</th>\n",
       "      <th>DRAWBACKS</th>\n",
       "      <th>RECOMMENDED</th>\n",
       "      <th>LIKES_COUNT</th>\n",
       "      <th>DISLIKES_COUNT</th>\n",
       "    </tr>\n",
       "  </thead>\n",
       "  <tbody>\n",
       "    <tr>\n",
       "      <th>0</th>\n",
       "      <td>0</td>\n",
       "      <td>30024724</td>\n",
       "      <td>2060202</td>\n",
       "      <td>1900</td>\n",
       "      <td>PRINTERS LASER</td>\n",
       "      <td>Kyocera</td>\n",
       "      <td>REVIEW</td>\n",
       "      <td>NaN</td>\n",
       "      <td>Что особенно ценно - при профилактике принтера...</td>\n",
       "      <td>23.10.16 22:26:00</td>\n",
       "      <td>5.0</td>\n",
       "      <td>хорошая скорость печати, двусторонняя печать, ...</td>\n",
       "      <td>Рядом \"на стол\" не поставишь, место много зани...</td>\n",
       "      <td>1.0</td>\n",
       "      <td>2.0</td>\n",
       "      <td>0.0</td>\n",
       "    </tr>\n",
       "    <tr>\n",
       "      <th>1</th>\n",
       "      <td>1</td>\n",
       "      <td>30024724</td>\n",
       "      <td>2060202</td>\n",
       "      <td>1900</td>\n",
       "      <td>PRINTERS LASER</td>\n",
       "      <td>Kyocera</td>\n",
       "      <td>REVIEW</td>\n",
       "      <td>NaN</td>\n",
       "      <td>Он у нас три месяца в офисе стоит уже - большо...</td>\n",
       "      <td>17.04.16 11:17:42</td>\n",
       "      <td>5.0</td>\n",
       "      <td>NaN</td>\n",
       "      <td>NaN</td>\n",
       "      <td>NaN</td>\n",
       "      <td>0.0</td>\n",
       "      <td>2.0</td>\n",
       "    </tr>\n",
       "    <tr>\n",
       "      <th>2</th>\n",
       "      <td>2</td>\n",
       "      <td>30024725</td>\n",
       "      <td>2060202</td>\n",
       "      <td>1900</td>\n",
       "      <td>PRINTERS LASER</td>\n",
       "      <td>Kyocera</td>\n",
       "      <td>REVIEW</td>\n",
       "      <td>NaN</td>\n",
       "      <td>Просто небо и земля с тем принтером, который у...</td>\n",
       "      <td>15.04.16 20:22:47</td>\n",
       "      <td>4.0</td>\n",
       "      <td>NaN</td>\n",
       "      <td>NaN</td>\n",
       "      <td>NaN</td>\n",
       "      <td>0.0</td>\n",
       "      <td>1.0</td>\n",
       "    </tr>\n",
       "    <tr>\n",
       "      <th>3</th>\n",
       "      <td>3</td>\n",
       "      <td>30024727</td>\n",
       "      <td>2060101</td>\n",
       "      <td>1900</td>\n",
       "      <td>ALL-IN-ONE LASER</td>\n",
       "      <td>Kyocera</td>\n",
       "      <td>REVIEW</td>\n",
       "      <td>С такой вроде бы навороченной техникой все смо...</td>\n",
       "      <td>У нас в кабинете недавно его поставили. Первое...</td>\n",
       "      <td>18.04.16 20:01:57</td>\n",
       "      <td>5.0</td>\n",
       "      <td>NaN</td>\n",
       "      <td>NaN</td>\n",
       "      <td>NaN</td>\n",
       "      <td>0.0</td>\n",
       "      <td>0.0</td>\n",
       "    </tr>\n",
       "    <tr>\n",
       "      <th>4</th>\n",
       "      <td>4</td>\n",
       "      <td>30024727</td>\n",
       "      <td>2060101</td>\n",
       "      <td>1900</td>\n",
       "      <td>ALL-IN-ONE LASER</td>\n",
       "      <td>Kyocera</td>\n",
       "      <td>REVIEW</td>\n",
       "      <td>NaN</td>\n",
       "      <td>Очень многофункциональная штука.  Есть все нео...</td>\n",
       "      <td>23.04.16 12:03:39</td>\n",
       "      <td>5.0</td>\n",
       "      <td>NaN</td>\n",
       "      <td>NaN</td>\n",
       "      <td>NaN</td>\n",
       "      <td>1.0</td>\n",
       "      <td>0.0</td>\n",
       "    </tr>\n",
       "  </tbody>\n",
       "</table>\n",
       "</div>"
      ],
      "text/plain": [
       "   Unnamed: 0   PRODUCT  CATEGORY_ID  BRAND_ID  \\\n",
       "0           0  30024724      2060202      1900   \n",
       "1           1  30024724      2060202      1900   \n",
       "2           2  30024725      2060202      1900   \n",
       "3           3  30024727      2060101      1900   \n",
       "4           4  30024727      2060101      1900   \n",
       "\n",
       "                                CATEGORY_NAME            BRAND_NAME    TYPE  \\\n",
       "0  PRINTERS LASER                              Kyocera               REVIEW   \n",
       "1  PRINTERS LASER                              Kyocera               REVIEW   \n",
       "2  PRINTERS LASER                              Kyocera               REVIEW   \n",
       "3  ALL-IN-ONE LASER                            Kyocera               REVIEW   \n",
       "4  ALL-IN-ONE LASER                            Kyocera               REVIEW   \n",
       "\n",
       "                                             SUBJECT  \\\n",
       "0                                                NaN   \n",
       "1                                                NaN   \n",
       "2                                                NaN   \n",
       "3  С такой вроде бы навороченной техникой все смо...   \n",
       "4                                                NaN   \n",
       "\n",
       "                                                TEXT        POSTED_DATE  \\\n",
       "0  Что особенно ценно - при профилактике принтера...  23.10.16 22:26:00   \n",
       "1  Он у нас три месяца в офисе стоит уже - большо...  17.04.16 11:17:42   \n",
       "2  Просто небо и земля с тем принтером, который у...  15.04.16 20:22:47   \n",
       "3  У нас в кабинете недавно его поставили. Первое...  18.04.16 20:01:57   \n",
       "4  Очень многофункциональная штука.  Есть все нео...  23.04.16 12:03:39   \n",
       "\n",
       "   RATING                                           BENEFITS  \\\n",
       "0     5.0  хорошая скорость печати, двусторонняя печать, ...   \n",
       "1     5.0                                                NaN   \n",
       "2     4.0                                                NaN   \n",
       "3     5.0                                                NaN   \n",
       "4     5.0                                                NaN   \n",
       "\n",
       "                                           DRAWBACKS  RECOMMENDED  \\\n",
       "0  Рядом \"на стол\" не поставишь, место много зани...          1.0   \n",
       "1                                                NaN          NaN   \n",
       "2                                                NaN          NaN   \n",
       "3                                                NaN          NaN   \n",
       "4                                                NaN          NaN   \n",
       "\n",
       "   LIKES_COUNT  DISLIKES_COUNT  \n",
       "0          2.0             0.0  \n",
       "1          0.0             2.0  \n",
       "2          0.0             1.0  \n",
       "3          0.0             0.0  \n",
       "4          1.0             0.0  "
      ]
     },
     "execution_count": 6,
     "metadata": {},
     "output_type": "execute_result"
    }
   ],
   "source": [
    "textColName = \"TEXT\"\n",
    "negatColName =  \"DRAWBACKS\"\n",
    "positColName = \"BENEFITS\"\n",
    "ratingColName = \"RATING\"\n",
    "catColName = \"CATEGORY_ID\"\n",
    "brandColName = \"BRAND_ID\"\n",
    "catNameColName= \"CATEGORY_NAME\"\n",
    "tovarIdColName = \"PRODUCT\"\n",
    "df_train.head()"
   ]
  },
  {
   "cell_type": "code",
   "execution_count": 7,
   "metadata": {
    "collapsed": false
   },
   "outputs": [],
   "source": [
    "morph = pymorphy2.MorphAnalyzer()\n",
    "\n",
    "def normalize(text):\n",
    "    return ' '.join([morph.parse(str(w))[0].normal_form for w in text.split()])\n",
    "def clean_text(text):\n",
    "    text = str(text)\n",
    "    text = text.replace(\"\\\\\", \" \").replace(u\"╚\", \" \").replace(u\"╩\", \" \")\n",
    "    text = text.lower()\n",
    "    text = re.sub('\\-\\s\\r\\n\\s{1,}|\\-\\s\\r\\n|\\r\\n', '', text) #deleting newlines and line-breaks\n",
    "    text = re.sub('[.,:;_%©?*,!@#$%^&()\\d]|[+=]|[[]|[]]|[/]|\"|\\s{2,}|-\\'>><`', ' ', text) #deleting symbols  \n",
    "    text = re.sub('-', ' ', text) #deleting symbols  \n",
    "    #text = ' '.join(word[:] for word in text.split() if len(word)>3)\n",
    "    #text = text.encode(\"utf-8\")\n",
    "    return text "
   ]
  },
  {
   "cell_type": "code",
   "execution_count": 8,
   "metadata": {
    "collapsed": true
   },
   "outputs": [],
   "source": [
    "#df_train[textColName]=df_train[textColName].apply(clean_text).apply(normalize)"
   ]
  },
  {
   "cell_type": "code",
   "execution_count": null,
   "metadata": {
    "collapsed": false
   },
   "outputs": [],
   "source": []
  },
  {
   "cell_type": "code",
   "execution_count": 42,
   "metadata": {
    "collapsed": false
   },
   "outputs": [],
   "source": [
    "import tomita\n",
    "#from tparser import tomita\n",
    "from tomita_parser import text_parse\n",
    "import pandas as pd"
   ]
  },
  {
   "cell_type": "code",
   "execution_count": 43,
   "metadata": {
    "collapsed": false
   },
   "outputs": [],
   "source": [
    "catidNameForBuild = \"SMARTPHONES\"\n",
    "category_data = df_train[df_train[catNameColName].str.contains(catidNameForBuild)==True]"
   ]
  },
  {
   "cell_type": "code",
   "execution_count": 44,
   "metadata": {
    "collapsed": false
   },
   "outputs": [
    {
     "name": "stdout",
     "output_type": "stream",
     "text": [
      "16844\n",
      "2164\n"
     ]
    },
    {
     "name": "stderr",
     "output_type": "stream",
     "text": [
      "/usr/anaconda3/lib/python3.6/site-packages/ipykernel/__main__.py:1: DeprecationWarning: \n",
      ".ix is deprecated. Please use\n",
      ".loc for label based indexing or\n",
      ".iloc for positional indexing\n",
      "\n",
      "See the documentation here:\n",
      "http://pandas.pydata.org/pandas-docs/stable/indexing.html#deprecate_ix\n",
      "  if __name__ == '__main__':\n"
     ]
    }
   ],
   "source": [
    "textAndProd = category_data.ix[:,[textColName,tovarIdColName]]\n",
    "textAndProdGrS = textAndProd.groupby(tovarIdColName )[tovarIdColName, textColName].agg(lambda x: \"{%s}\" % ', '.join(x)).reset_index()\n",
    "print(len(textAndProd))\n",
    "print(len(textAndProdGrS))"
   ]
  },
  {
   "cell_type": "code",
   "execution_count": 45,
   "metadata": {
    "collapsed": false
   },
   "outputs": [
    {
     "name": "stdout",
     "output_type": "stream",
     "text": [
      "270874\n",
      "270874\n"
     ]
    }
   ],
   "source": [
    "print(len(df_train))\n",
    "df_train = df_train[(df_train[tovarIdColName] != 30025022) & (df_train[tovarIdColName] != 30025023 )]\n",
    "print(len(df_train))"
   ]
  },
  {
   "cell_type": "code",
   "execution_count": 46,
   "metadata": {
    "collapsed": true
   },
   "outputs": [],
   "source": [
    "#mask.to_csv(\"newProd.csv\")\n",
    "df_test = pd.read_csv('newProd.csv', delimiter=',', encoding='utf-8', error_bad_lines=False)"
   ]
  },
  {
   "cell_type": "code",
   "execution_count": 15,
   "metadata": {
    "collapsed": false
   },
   "outputs": [],
   "source": [
    "colList = pd.unique(df_test[catNameColName])"
   ]
  },
  {
   "cell_type": "code",
   "execution_count": 16,
   "metadata": {
    "collapsed": false
   },
   "outputs": [
    {
     "data": {
      "text/plain": [
       "11694"
      ]
     },
     "execution_count": 16,
     "metadata": {},
     "output_type": "execute_result"
    }
   ],
   "source": [
    "cat = colList[0][1:]\n",
    "category_data = df_train[df_train[catNameColName].str.contains(cat)==True]\n",
    "len(category_data)"
   ]
  },
  {
   "cell_type": "code",
   "execution_count": 17,
   "metadata": {
    "collapsed": true
   },
   "outputs": [],
   "source": [
    "#fullText = category_data.groupby([textColName,positColName,negatColName]).apply(lambda x: ' '.join(x), axis=1)\n",
    "#category_data[textColName].str.append(\" \")\n",
    "fTextColName = 'fullText'\n",
    "fTextColNameNorm = 'fullTextNorm'"
   ]
  },
  {
   "cell_type": "code",
   "execution_count": 18,
   "metadata": {
    "collapsed": false
   },
   "outputs": [
    {
     "name": "stderr",
     "output_type": "stream",
     "text": [
      "/usr/anaconda3/lib/python3.6/site-packages/ipykernel/__main__.py:1: SettingWithCopyWarning: \n",
      "A value is trying to be set on a copy of a slice from a DataFrame.\n",
      "Try using .loc[row_indexer,col_indexer] = value instead\n",
      "\n",
      "See the caveats in the documentation: http://pandas.pydata.org/pandas-docs/stable/indexing.html#indexing-view-versus-copy\n",
      "  if __name__ == '__main__':\n",
      "/usr/anaconda3/lib/python3.6/site-packages/ipykernel/__main__.py:2: SettingWithCopyWarning: \n",
      "A value is trying to be set on a copy of a slice from a DataFrame.\n",
      "Try using .loc[row_indexer,col_indexer] = value instead\n",
      "\n",
      "See the caveats in the documentation: http://pandas.pydata.org/pandas-docs/stable/indexing.html#indexing-view-versus-copy\n",
      "  from ipykernel import kernelapp as app\n"
     ]
    }
   ],
   "source": [
    "category_data[fTextColName] = category_data[textColName].astype('str') + \" \"+category_data[positColName].astype('str')\n",
    "category_data[fTextColName] = category_data[fTextColName]  +\" \"+category_data[negatColName].astype('str')"
   ]
  },
  {
   "cell_type": "code",
   "execution_count": 19,
   "metadata": {
    "collapsed": false
   },
   "outputs": [
    {
     "name": "stderr",
     "output_type": "stream",
     "text": [
      "/usr/anaconda3/lib/python3.6/site-packages/ipykernel/__main__.py:1: SettingWithCopyWarning: \n",
      "A value is trying to be set on a copy of a slice from a DataFrame.\n",
      "Try using .loc[row_indexer,col_indexer] = value instead\n",
      "\n",
      "See the caveats in the documentation: http://pandas.pydata.org/pandas-docs/stable/indexing.html#indexing-view-versus-copy\n",
      "  if __name__ == '__main__':\n"
     ]
    }
   ],
   "source": [
    "category_data[fTextColNameNorm] = category_data[fTextColName].apply(clean_text).apply(normalize)"
   ]
  },
  {
   "cell_type": "code",
   "execution_count": 20,
   "metadata": {
    "collapsed": false
   },
   "outputs": [
    {
     "data": {
      "text/plain": [
       "11694"
      ]
     },
     "execution_count": 20,
     "metadata": {},
     "output_type": "execute_result"
    }
   ],
   "source": [
    "len(category_data)"
   ]
  },
  {
   "cell_type": "code",
   "execution_count": 21,
   "metadata": {
    "collapsed": false
   },
   "outputs": [
    {
     "data": {
      "text/plain": [
       "1322"
      ]
     },
     "execution_count": 21,
     "metadata": {},
     "output_type": "execute_result"
    }
   ],
   "source": [
    "category_data_test = df_test[df_test[catNameColName].str.contains(cat)==True]\n",
    "category_data_test[fTextColName] = category_data_test[textColName].astype('str') + \" \"+category_data_test[positColName].astype('str')\n",
    "category_data_test[fTextColName] = category_data_test[fTextColName]  +\" \"+category_data_test[negatColName].astype('str')\n",
    "category_data_test[fTextColNameNorm]=category_data_test[fTextColName].apply(clean_text).apply(normalize)\n",
    "textAndProdGrS_test = category_data_test.groupby(tovarIdColName )[tovarIdColName, fTextColName].agg(lambda x: \" %s \" % ', '.join(x)).reset_index()\n",
    "textAndProdGrSNorm_test =  category_data_test.groupby(tovarIdColName )[tovarIdColName, fTextColNameNorm].agg(lambda x: \" %s \" % ', '.join(x)).reset_index()\n",
    "textAndProdGrS = category_data.groupby(tovarIdColName )[tovarIdColName, fTextColName].agg(lambda x: \" %s \" % ', '.join(x)).reset_index()\n",
    "textAndProdGrSNorm =  category_data.groupby(tovarIdColName )[tovarIdColName, fTextColNameNorm].agg(lambda x: \" %s \" % ', '.join(x)).reset_index()\n",
    "len(textAndProdGrSNorm)"
   ]
  },
  {
   "cell_type": "code",
   "execution_count": 22,
   "metadata": {
    "collapsed": false
   },
   "outputs": [],
   "source": [
    "#category_data[fTextColName].iloc[1] #03:42 №0757"
   ]
  },
  {
   "cell_type": "code",
   "execution_count": 27,
   "metadata": {
    "collapsed": false
   },
   "outputs": [
    {
     "data": {
      "text/plain": [
       "1322"
      ]
     },
     "execution_count": 27,
     "metadata": {},
     "output_type": "execute_result"
    }
   ],
   "source": [
    "len(textAndProdGrSNorm)"
   ]
  },
  {
   "cell_type": "code",
   "execution_count": 80,
   "metadata": {
    "collapsed": false
   },
   "outputs": [
    {
     "data": {
      "text/plain": [
       "1324"
      ]
     },
     "execution_count": 80,
     "metadata": {},
     "output_type": "execute_result"
    }
   ],
   "source": [
    "textAndProdGrSNorm_All = pd.concat([textAndProdGrSNorm,textAndProdGrSNorm_test])\n",
    "textAndProdGrS_All = pd.concat([textAndProdGrSNorm,textAndProdGrSNorm_test])\n",
    "\n",
    "len(textAndProdGrSNorm_All)"
   ]
  },
  {
   "cell_type": "code",
   "execution_count": 37,
   "metadata": {
    "collapsed": false
   },
   "outputs": [
    {
     "name": "stdout",
     "output_type": "stream",
     "text": [
      "(1324, 2)\n",
      "true\n",
      "1323\n"
     ]
    },
    {
     "data": {
      "text/plain": [
       "[1322, 1323]"
      ]
     },
     "execution_count": 37,
     "metadata": {},
     "output_type": "execute_result"
    }
   ],
   "source": [
    "tf_list = np.array(textAndProdGrSNorm_All)\n",
    "print(tf_list.shape)\n",
    "# for id_t in textAndProdGrSNorm_test[tovarIdColName]:\n",
    "#     print(id_t)\n",
    "#     idL = textAndProdGrSNorm_All[textAndProdGrSNorm_All[tovarIdColName] == id_t].index.tolist()\n",
    "#     print(\"idL\")\n",
    "#     print(idL)\n",
    "#     #print(idL.astype(\"int\"))\n",
    "#     print(textAndProdGrSNorm_All[idL])\n",
    "print(\"true\")\n",
    "print(len(textAndProdGrSNorm_All)-1)\n",
    "textAndProdGrSNorm_All.iloc[len(textAndProdGrSNorm_All)-1]\n",
    "# indList = list()\n",
    "id_tlist = textAndProdGrSNorm_test[tovarIdColName].tolist()\n",
    "# #id_tlist\n",
    "indList = [i for i in range(0,len(tf_list)) if tf_list[i][0] in id_tlist]\n",
    "indList\n",
    "#         if tf_list[i] in id_t:\n",
    "#             indList.append(i)\n"
   ]
  },
  {
   "cell_type": "code",
   "execution_count": 83,
   "metadata": {
    "collapsed": false
   },
   "outputs": [
    {
     "data": {
      "text/html": [
       "<div>\n",
       "<style>\n",
       "    .dataframe thead tr:only-child th {\n",
       "        text-align: right;\n",
       "    }\n",
       "\n",
       "    .dataframe thead th {\n",
       "        text-align: left;\n",
       "    }\n",
       "\n",
       "    .dataframe tbody tr th {\n",
       "        vertical-align: top;\n",
       "    }\n",
       "</style>\n",
       "<table border=\"1\" class=\"dataframe\">\n",
       "  <thead>\n",
       "    <tr style=\"text-align: right;\">\n",
       "      <th></th>\n",
       "      <th>PRODUCT</th>\n",
       "      <th>fullText</th>\n",
       "      <th>tomita</th>\n",
       "    </tr>\n",
       "  </thead>\n",
       "  <tbody>\n",
       "    <tr>\n",
       "      <th>0</th>\n",
       "      <td>30025022</td>\n",
       "      <td>Очень порадовал аккумулятор, хватает более че...</td>\n",
       "      <td>[[АККУМУЛЯТОР, ОЧЕНЬ ПОРАДОВАЛ АККУМУЛЯТОР], [...</td>\n",
       "    </tr>\n",
       "    <tr>\n",
       "      <th>1</th>\n",
       "      <td>30025023</td>\n",
       "      <td>Отличный дизайн, яркий экран, камера четкая,з...</td>\n",
       "      <td>[[ДИЗАЙН, ОТЛИЧНЫЙ ДИЗАЙН], [ЭКРАН, ЯРКИЙ ЭКРА...</td>\n",
       "    </tr>\n",
       "  </tbody>\n",
       "</table>\n",
       "</div>"
      ],
      "text/plain": [
       "    PRODUCT                                           fullText  \\\n",
       "0  30025022   Очень порадовал аккумулятор, хватает более че...   \n",
       "1  30025023   Отличный дизайн, яркий экран, камера четкая,з...   \n",
       "\n",
       "                                              tomita  \n",
       "0  [[АККУМУЛЯТОР, ОЧЕНЬ ПОРАДОВАЛ АККУМУЛЯТОР], [...  \n",
       "1  [[ДИЗАЙН, ОТЛИЧНЫЙ ДИЗАЙН], [ЭКРАН, ЯРКИЙ ЭКРА...  "
      ]
     },
     "execution_count": 83,
     "metadata": {},
     "output_type": "execute_result"
    }
   ],
   "source": [
    "textAndProdGrS_test['tomita'] = textAndProdGrS_test[:][fTextColName].apply(text_parse)\n",
    "textAndProdGrS_test"
   ]
  },
  {
   "cell_type": "code",
   "execution_count": null,
   "metadata": {
    "collapsed": true
   },
   "outputs": [],
   "source": [
    "tfidf = fex.TfidfVectorizer()\n",
    "tfIdfMatrix = tfidf.fit_transform(tf_list[:,1])\n",
    "ftNames = tfidf.get_feature_names()\n",
    "vorDic = tfidf.vocabulary\n",
    "densM = tfIdfMatrix.todense()\n",
    "densM.shape"
   ]
  },
  {
   "cell_type": "code",
   "execution_count": 62,
   "metadata": {
    "collapsed": false
   },
   "outputs": [
    {
     "ename": "SyntaxError",
     "evalue": "invalid syntax (<ipython-input-62-450679eb60d8>, line 1)",
     "output_type": "error",
     "traceback": [
      "\u001b[0;36m  File \u001b[0;32m\"<ipython-input-62-450679eb60d8>\"\u001b[0;36m, line \u001b[0;32m1\u001b[0m\n\u001b[0;31m    valD = dict() for i in range(ind,ind+1): col = densM[i] col = col.tolist() col = col[0]\u001b[0m\n\u001b[0m                    ^\u001b[0m\n\u001b[0;31mSyntaxError\u001b[0m\u001b[0;31m:\u001b[0m invalid syntax\n"
     ]
    }
   ],
   "source": [
    "valD = dict() \n",
    "for i in range(ind,ind+1): \n",
    "    col = densM[i] col = col.tolist() col = col[0]\n"
   ]
  },
  {
   "cell_type": "code",
   "execution_count": 110,
   "metadata": {
    "collapsed": false
   },
   "outputs": [
    {
     "data": {
      "text/plain": [
       "array(['ОЧЕНЬ ПОРАДОВАЛ АККУМУЛЯТОР',\n",
       "       'ХВАТАТЬ БОЛЕЕ ЧЕМ НА СУТКИ ПРИ АКТИВНОМ ИСПОЛЬЗОВАНИЕ',\n",
       "       'ИНТЕРЕСНАЯ ОБОЛОЧКА', 'ИНТЕРНЕТ ЛЕТАТЬ', 'ИДТИ БЕЗ ЛАГ',\n",
       "       'АППАРАТ ПОЛНОСТЬЮ',\n",
       "       'ВЫСОКОСКОРОСТНОЙ ИНТЕРНЕТ РАБОТАЕТ ТОЛЬКО С ОДНОЙ SIM КАРТА',\n",
       "       'СЛОЖНО НАЙТИ АКСЕССУАР', 'ХОРОШИЙ ЗА СВОИ ДЕНЬГА',\n",
       "       'ТОЛЬКО ПОПАЛСЯ ВИДИМО С БРАК', 'МАГАЗИН ЗАЧЕТНЫЙ',\n",
       "       'САМ НИ ЗА ЧТО НЕ ПОМЕНЯЮ ЯБЛОЧНУЮ КОМПАНИЯ',\n",
       "       'ОСТАЛЬНОЙ ЧЛЕН СЕМЬИ', 'ПРЕИМУЩЕСТВО IOS НЕ УМЕЮТ',\n",
       "       'ЭТО ИДЕАЛЬНЫЙ ВАРИАНТ ДЛЯ ВАШИХ СОВРЕМЕННЫХ МАМ',\n",
       "       'ТАКЖЕ ЭТО ПРЕКРАСНЫЙ ВАРИАНТ ЕСЛИ ОЧЕНЬ ХОЧЕТСЯ СМАРТФОН-ФЛАГМАН',\n",
       "       'ЭТОТ ТЕЛЕФОН КУПИЛ БУКВАЛЬНО ВЧЕРА', 'Я ДОЛГО ЖДАЛ', 'ЭТА МОДЕЛЬ',\n",
       "       'ДО ЭТОТ ПОЛЬЗОВАЛСЯ', 'ПОТРЯСАЮЩИЙ ТЕЛЕФОН ЗА ТАКУЮ ЦЕНА',\n",
       "       'ГОД И НИКАКИХ ПРОБЛЕМ С ТЕЛЕФОНОМ НЕ БЫЛО',\n",
       "       'БОЛЬШЕ ВСЕГО МНЕ НРАВИЛАСЬ АВТОНОМНОСТЬ',\n",
       "       'НА НОВОЙ МОДЕЛИ ПРО АККУМУЛЯТОР СТАЛ ПРАКТИЧЕСКИ В ДВА РАЗ',\n",
       "       'ТО ЕСТЬ ТЕЛЕФОН РАБОТАТЬ БУДЕТ ПО СУТИ В ДВА РАЗ',\n",
       "       'ДРУГОЙ ПРЕИМУЩЕСТВО', 'ПОЯВИТЬСЯ ПОДДЕРЖКА LTE СЕТЬ',\n",
       "       'ИНТЕРНЕТ СТАТЬ БЫСТРЕЕ', 'В ЦЕЛЫЙ', 'И НЕ СЧИТАЮ',\n",
       "       'ТУТ ПРОЦЕССОР СЛАБЫЙ', 'ВСЕ РАБОТАЕТ ПО МАКСИМУМ',\n",
       "       'ПРОЦЕССОР ОЧЕНЬ СЛАБЫЙ', 'ПОКРЫТИЕ НЕ ПОМОГАЕТ ОТПЕЧАТКИ ОСТАЮТСЯ',\n",
       "       'ЛУЧШЕ МЕЙЗУ ИЛИ ХАЙОМИ ЗА ТЕ ЖЕ ДЕНЬГИ ВЫ ПОЛУЧИТЕ ТОПОВЫЙ АППАРАТ',\n",
       "       'НАКОНЕЦ-ТО ПОЯВИЛИСЬ БЮДЖНЬТНЫЕ СМАРТФОН',\n",
       "       'БАТАРЕЯ КАК НАПРИМЕР ЭТОТ',\n",
       "       'РАНЬШЕ ТОЛЬКО МЕЧТАТЬ ПРИХОДИЛОСЬ О БАТАРЕЯ',\n",
       "       'НА НЕСКОЛЬКО ДНЕЙ ЕЕ ДОЛЖНО ПО СУТИ ХВАТИТЬ ПРИ НЕОЧЕНЬ АКТИВНОМ ИСПОЛЬЗОВАНИЕ',\n",
       "       'ДЕНЬ ВООБЩЕ БЕЗ ПРОБЛЕМ БУДЕТ ДУМАЮ',\n",
       "       'КСТАТИ ОН РЕАЛЬНО ОЧЕНЬ КРУТОЙ СМАРТФОН',\n",
       "       'ГИГ ОПЕРТИВКА И 16 ВСТРОЕННОЙ', 'КАМЕРА ПРОСТО ШИКАРНЫЕ',\n",
       "       'И ДАЖЕ 4G ПОДДЕРЖИВАЕТ', 'В ОБЩИЙ БУДЬ ЭТО КАКАЯ-НИБУДЬ',\n",
       "       'ПАФОСНАЯ МАРКА', 'ВЕСЬ НА СЛУХ',\n",
       "       'СМАРТФОН С ТАКИМИ ПАРАМЕТРАМИ СТОИЛ БЫ РАЗА В ТРИ ДОРОЖЕ',\n",
       "       'ОЧЕНЬ ДОВОЛЕН ПОКУПКА',\n",
       "       'ТАКОЙ СМАРТФОН В ОБЩЕМ-ТО ПОЛНОСТЬЮ ПРОПАДАЕТ НАДБНОСТЬ В ПОКУПКА ПЛАНШЕТА',\n",
       "       'НЕТ НИЧТО МНЕ НУЖНОГО', 'ОЧЕНЬ ДОВОЛЕН ПРИОБРЕТЕНИЕ',\n",
       "       'К HUAWEI САМ', 'БЫЛЬ 3 ТЕЛЕФОНА РАНЬШЕ И ВСЕ ОТПАХАЛИ НА ОТЛИЧНО',\n",
       "       'ПРИСМАТРИВАТЬСЯ К ЭТА МОДЕЛИ', 'УЖ ХОТЕТЬ',\n",
       "       'ПОКА ЖДАЛ РЕЛИЗА НАТКНУЛСЯ НА ФОРУМАХ НА ДРУГОЙ АППАРАТ',\n",
       "       'ДЕНЬГА ОДИНАКОВО', 'ЛУЧШЕ ПРОЦЕССОР', 'АППАРАТ XIAOMI ПРИДЕТСЯ',\n",
       "       'ОТЛИЧНЫЙ АППАРАТ', 'ДЕНЬГА МОЖНО УЖЕ ВЗЯТЬ ЧТО-ТО ПОМОЩНЕЕ',\n",
       "       'КУПИТЬ СЫН', 'ПРИОБРЕСТИ ТЕЛЕФОН ОТЦУ', 'БОЛЬШОЙ ЭКРАН',\n",
       "       'ДОЛГАЯ БАТАРЕЙКА', 'НЕ ТОРМОЗИТ ПРИ ИСПОЛЬЗОВАНИЕ',\n",
       "       'КОНЕЧНО ОН НЕ ДЛЯ ИГРА', 'ПОЛЬЗОВАНИЕ ОТЛИЧНО ПОДХОДИТ',\n",
       "       'ХОРОШИЙ ТЕЛЕФОН', 'МОЖЕТ ПОТОМУ ЧТО ЭТО ПЕРВЫЙ МОЙ СМАРТФОН',\n",
       "       'ПРИЯТНЫЙ ВИД', 'РАБОТАТЬ БЫСТРЕЕ ЧЕМ SAMSUNG СЫН', 'РАЗ ДЕШЕВЫЙ',\n",
       "       'О ВРЕМЯ РАБОТЫ ТОЖЕ ГОВОРИТЬ НЕЧЕГО', 'ПОЧТИ 2 ДНЯ БЕЗ ПОДЗАРЯДКА',\n",
       "       'ПОСТОЯННО В ИНТЕРНЕТ', 'КАМЕРА ХОРОШАЯ', 'В ОБЩИЙ ПОКА НРАВИТСЯ',\n",
       "       'НЕТ В ПРОДАЖЕ ОРИГИНАЛЬНЫХ ЧЕХЛОВ ПОД ЭТА МОДЕЛЬ',\n",
       "       'ЭТО ЖЕ КАСАЕТСЯ ЗАЩИТНОГО СТЕКЛО',\n",
       "       'ХОРОШИЙ АППАРАТ ЗА СВОИ ДЕНЬГА', 'АККУМУЛЯТОР ДЕРЖАТЬ ДОЛГО',\n",
       "       'ОШИБКА КАМЕРА НЕ ВЫДАВАЛА',\n",
       "       'ЕДИНСТВЕННОЕ РАССТРОИЛО ТАК ЭТО КОМПЛЕКТАЦИЯ',\n",
       "       'ФУНКЦИЯ ИСПОЛЬЗОВАНИЕ КАК POWERBANK ЕСТЬ',\n",
       "       'САМЫЙ ШНУРА OTG ДЛЯ ЭТОГО В КОМПЛЕКТАЦИЯ НЕТ',\n",
       "       'ТО ЕСТЬ ЕСЛИ ХОТИТЕ ЗАРЯДИТЬ ДРУГОЙ ТЕЛЕФОН ТО ПРИДЕТСЯ ДОКУПАТЬ ШНУР',\n",
       "       'ШНУР В КОМПЛЕКТЕ НО ОН И ДОРОЖЕ И БОЛЬШЕ',\n",
       "       'ДАННЫЙ АППАРАТ ОПТИМАЛЬНЫЙ ПО РАЗМЕРАМ ЦЕНЕ И КАЧЕСТВО',\n",
       "       'ОЧЕНЬ НАДЕЮСЬ ЧТО СО ВРЕМЕНЕМ НЕ РАЗОЧАРУЮСЬ В АППАРАТ',\n",
       "       'КАМЕРА И ТД ВСЕ', 'НА ВЫСШЕМ УРОВЕНЬ',\n",
       "       'ОБСЛУЖИВАНИЕ СОТРУДНИК МАГАЗИНА КАК ВСЕГДА ЛУЧШЕЕ',\n",
       "       'АППАРАТ ХОРОШИЙ ЗА СВОИ', 'ТОЛЬКО ЧЕХОЛ', 'ДО ЭТОТ БЫЛ',\n",
       "       'БАТАРЕЯ НА LENOVO В РАЗА 2 МОЩНЕЕ', 'БАТАРЕЯ ХВАТАТЬ',\n",
       "       'НА ПОЛНЫЙ ДЕНЬ АКТИВНОГО ПОЛЬЗОВАНИЯ ПРИ ВКЛЮЧЕНИИ ВСЕХ ПРИЛОЖЕНИЙ И УСЛУГА',\n",
       "       'ПЛЮС ФИЛЬМ ЧАСА 2 ПОСМОТРЕЛ И ОСТАЕТСЯ ЗАРЯДКИ ПРИМЕРНО',\n",
       "       'ДО ТРИ МЕТРОВ СНИМАЕТ ХОРОШО', 'ДАЛЬ ИДТИ',\n",
       "       'ЦВЕТНОСТЬ ЭКРАН ТУСКЛАЯ', 'БОЛЬШОЙ ЭКРАН',\n",
       "       'ОЧЕНЬ МНОГО ПРИЯТНЫХ ПРИКОЛЮХ В ФУНКЦИОНАЛ ТЕЛЕФОНА',\n",
       "       'ПРИКОЛЬНЫЙ ДИЗАЙН', 'ПРИЕМЛЕМАЯ ЦЕНА', 'ТЕЛЕФОН ПОНРАВИТЬСЯ',\n",
       "       'БАТАРЕЯ МОЩНАЯ',\n",
       "       'НЕДЕЛЯ ОБЩАТЬСЯ ПО НЕМУ УТРОМ В ТИШИНЕ И ОБНАРУЖИЛСЯ',\n",
       "       'ПОСТОРОННИЙ ШУМЫ В ГОЛОСОВОМ ДИНАМИК', 'ТЕЛЕФОН НАХОДИТЬСЯ',\n",
       "       'РЯДОМ С КОЛОНКА', 'ОТНЕСТИ В ПЕРВЫЙ СЕРВИС ЦЕНТР',\n",
       "       'ПОДТВЕРДИТЬ ДЕФЕКТ', 'РЕЗУЛЬТАТ ЗАМЕНИТЬ', 'ВЕСЬ КОМПЛЕКТ',\n",
       "       'НА НОВОМ ТЕЛЕФОН', 'ПРОБЛЕМА ТА',\n",
       "       'ДРУГОЙ СЦ И ТАМ ТОЖЕ МНЕ ПОЛНОСТЬЮ ЗАМЕНИЛИ ТЕЛЕФОН НА НОВЫЙ',\n",
       "       'ТОЖЕ ОКАЗАЛСЯ С ДАННЫЕ ДЕФЕКТОМ',\n",
       "       'НЕТ МАССОВЫЙ ОБРАЩЕНИЙ И ПОЭТОМУ НЕ БУДУТ РАССМАТРИВАТЬ ДАННЫЙ ВОПРОС И ПОРЕКОМЕНДОВАЛИ ИДТИ ОПЯТЬ',\n",
       "       'ДАННАЯ МОДЕЛИ ПРОВЕРИТЬ НАЛИЧИЕ ДАННЫХ ШУМОВ И ОТПИСАТЬ О НАЛИЧИИ ИЛИ ОТСУТСТВИЕ ШУМОВ',\n",
       "       'ПАРТИЯ ВСЯ ТАКАЯ', 'ПОКУПАТЬ В КОНЕЦ МАЯ',\n",
       "       'МОЖНО УСЛЫШАТЬ В ТИШИНЕ И ТОЛЬКО ПРИ ИСПОЛЬЗОВАНИИ 2G СИМА КАРТЫ',\n",
       "       'НАПРИМЕР БИЛАЙН',\n",
       "       'ПРИОБРЕСТИ ТЕЛЕФОН ПРИ ПОЯВЛЕНИИ ПЕРВОЙ ОГРАНИЧЕННОЙ СЕРИИ В КОМПАНИЯ',\n",
       "       'ТЕЛЕФОН ПРОВЕРЕН НЕБОЛЬШИМ', 'КАМЕРА ТЕЛЕФОН ПЛОХАЯ',\n",
       "       'СТОЯТЬ НА РАССТОЯНИЕ', 'КАЧЕСТВО ФОТО НИЗКОЕ',\n",
       "       'БАТАРЕЯ ТЕЛЕФОН СЛАБАЯ', 'РАНЕЕ БЫЛ ТЕЛЕФОН',\n",
       "       'АККУМУЛЯТОР НА LENOVO ДЕРЖАЛ ЗАРЯД В ДВА РАЗА ДОЛЬШЕ',\n",
       "       'АККУМУЛЯТОР НЕ ХВАТАЕТ', 'ЕЩЕ ОДИН МОМЕНТ', 'ОЧЕНЬ ТУСКЛЫЙ ЭКРАН',\n",
       "       'ТЕЛЕФОН КОТОРЫЙ У МЕНЯ БЫЛ', 'ЭТО САМСУНГ',\n",
       "       'ПОНИМАТЬ ПРИВЫКАЛ К ЭТОМУ ДИСПЛЕЙ ДНЯ', 'В ОСТАЛЬНОЙ ОЧЕНЬ',\n",
       "       'ХОРОШИЙ ТЕЛЕФОН',\n",
       "       'ЗАРЯЖАТЬСЯ ОТ ОРИГИНАЛЬНОЙ ЗАРЯДКИ ДО 100% ЗА МИНА',\n",
       "       'СЕТЬ ЛОВИТЬ ХОРОШО', 'СЛЫШИМОСТЬ С СОБЕСЕДНИКОМ ОТЛИЧНАЯ',\n",
       "       'ОСТАТЬСЯ ДОВОЛЬНА ВЫБОР', 'ТЕЛЕФОН ЗА ЭТИ ДЕНЬГИ ПРОСТО',\n",
       "       'ПОКУПАТЬ МОДЕЛЬ', 'ВЗЯТЬ ЭТА', 'БЫТЬ СВОИ ПЛЮСЫ И МИНУС',\n",
       "       'БАТАРЕЯ ДЕРЖАТЬ ДОЛЬШЕ', 'РЕАЛЬНО ЗАРЯЖАЮ РАЗ В 3-4 ДЕНЬ',\n",
       "       'ИСПОЛЬЗОВАТЬ ТЕЛЕФОН ДЛЯ ЗВОНКОВ И ИНТЕРНЕТ', 'ИГРА НЕ ИГРАЮ',\n",
       "       'ИНТЕРНЕТ НЕ ИСПОЛЬЗУЮ', 'МЕСТО НА ВНУТРЕННЕЙ ПАМЯТИ БОЛЬШЕ',\n",
       "       'КАРТ ПАМЯТЬ ПОКА НЕ ПОКУПАЛ',\n",
       "       'НЕТ ВКЛЮЧЕНИЯ ПО ДВОЙНОМУ ТАПУ ПО ЭКРАН', 'В ЦЕЛЫЙ ВСЁ УСТРАИВАЕТ',\n",
       "       'БРАТЬ В М. ВИДЕО НА САМОМ СТАРТ ПРОДАЖ', 'МИНУС НЕ НАШЛА',\n",
       "       'ЗАРЯДКА ДЕРЖАТЬ', 'ХОРОШО ДАЖЕ ПРИ ВКЛЮЧЕННОМ ИНТЕРНЕТ',\n",
       "       'ТЕЛЕФОН НЕТ НИЧЕГО ЛИШНЕГО', 'ИМЕТЬ В ВИДУ НЕНУЖНЫЕ ПРОГРАММА',\n",
       "       'ТЕЛЕФОНЧИК ШУСТРЫЙ', 'ДИЗАЙН КРАСИВЫЙ', 'Я ПОКА',\n",
       "       'КУПИТЬ СО СКИДКА', 'С УЧЕТ ОФИЦИАЛЬНОЙ', 'ОЧЕНЬ ПРИЛИЧНЫЙ АППАРАТ',\n",
       "       'ОДИН ИЗ КРИТЕРИЕВ РАЗДЕЛЬНЫЕ СЛОТА ДЛЯ 2 СИМКА',\n",
       "       'СРЕДНИЙ 2 ДНЯ АКТИВНОГО ПОЛЬЗОВАНИЕ', 'ФРОНТАЛЬНАЯ КАМЕРА',\n",
       "       'ЗАВИСАТЬ КАМЕРА', 'ПОСЛЕ ПЕРЕЗАГРУЗКА',\n",
       "       'РАЗ ЭДАК ЧЕРЕЗ 10 ПРИЛОЖЕНИЕ НЕ ЗАПУСКАЛОСЬ ВООБЩЕ',\n",
       "       'ЖАЛОВАТЬСЯ НА ЭТОТ НЕДОЧЕТ МНОГИЕ',\n",
       "       'ЭТА ОШИБКА КАМЕРЫ НЕ КОСНЕТСЯ', 'ТЕЛЕФОН СУПЕР',\n",
       "       'ОСОБАЯ БЛАГОДАРНОСТЬ', 'ЭТО БАТАРЕЯ',\n",
       "       'АКТИВНЫЙ ИСПОЛЬЗОВАНИИ 5 ДНЕЙ БЕЗ ПОДЗАРЯДКА', 'ТОЖЕ ПЛЮС',\n",
       "       'ИНТЕРНЕТ ЛЕТАТЬ', 'ХОРОШИЙ ТЕЛЕФОН',\n",
       "       'СООТВЕТСТВОВАТЬ ВСЕМ ЗАЯВЛЕННЫМ ПАРАМЕТР', 'УДОБНЫЙ СЛОТ',\n",
       "       'КОМПЛЕКТАЦИЯ БЫТЬ', 'ЗАЩИТНАЯ ПЛЕНКА',\n",
       "       'ОДНАКОЖ СЛОЖНОСТЬ НАЙТИ ЧЕХОЛ К НОВА МОДЕЛИ',\n",
       "       'ПРОСМОТРЕТЬ ОБЗОРЫ И ТЕЛЕФОН КУПИЛ В ИЮЛЬ',\n",
       "       'ТО ЕСТЬ ПРОШЛО ВСЕГО 2 МЕСЯЦА И НАЧАЛИСЬ СЮРПРИЗ', 'ТО ЕСТЬ МИНУС',\n",
       "       'ЧЕЛОВЕК НЕ СЛЫШАТ', 'СНАЧАЛА ГРЕШИЛ НА КАЧЕСТВО СВЯЗИ',\n",
       "       'РАЗ В СТАВРОПОЛЬСКОМ КРАЕ СЕЙЧАС ПРОВОДИТСЯ ЗАМЕНА ОБОРУДОВАНИЯ',\n",
       "       'ЗВОНОК С ДРУГОГО ТЕЛЕФОНА ЭТУ ВЕРСИЮ ОТБРОСИЛИ',\n",
       "       'ТЕПЕРЬ СТАЛА ПОЛНОСТЬЮ ПРОПАДАТЬ СВЯЗЬ',\n",
       "       'ПОМОГАТЬ ТОЛЬКО ПЕРЕЗАГРУЗКА ТЕЛЕФОНА',\n",
       "       'НА ВСЮ И ПОДСОЕДИНИТЬ ТЕЛЕФОН К РЕСИВЕР', 'ТО ЗВУК',\n",
       "       'ПРИХОДИТЬСЯ НЕМНОГО СНИЖАТЬ ГРОМКОСТЬ',\n",
       "       'СРАЗУ ГОВОРЮ ДЛЯ ВОЗМОЖНЫХ ВОПРОС',\n",
       "       'ТЕЛЕФОН НЕ РОНЯЛСЯ И НЕ НАМОКАЛ', 'ПЛЮС МОЧЬ',\n",
       "       'ОБИЛЬНЫЙ ЗВОНКАХ И ПОЛЬЗОВАНИЕ ИНТЕРНЕТОМ', 'ТО ВСЕ 5 ДЕНЬ',\n",
       "       'БОЛЬШОЙ ЭКРАН И ПОНЯТНЫЙ ИНТЕРФЕЙС', 'ЭТОТ ПЛЮС',\n",
       "       'ТУФТА ПО СРАВНЕНИЮ С ГЛЮКАМИ ВЫШЕОПИСАННЫМИ',\n",
       "       'ПОПРОБОВАТЬ ОБРАТИТЬСЯ В М-ВИДЕО ПО ПОВОД ЗАМЕНЫ',\n",
       "       'ПОТ ДОПИСАТЬ ЧЕМ ВСЕ ЗАКОНЧИЛОСЬ', 'ПОЛЬЗОВАТЬСЯ ПОЛТОРА МЕСЯЦ',\n",
       "       'МИНУС НЕ ОБНАРУЖИЛ', 'УДОБНЫЙ В ИСПОЛЬЗОВАНИЕ СМАРТФОН',\n",
       "       'ЕМКИЙ АККУМУЛЯТОР БЫЛ ОДНИМ ИЗ ВАЖНЫХ КРИТЕРИЕВ ДЛЯ ВЫБОР',\n",
       "       'АКТИВНЫЙ ПОЛЬЗОВАНИИ ИНТЕРНЕТОМ И ПРИЛОЖЕНИЕ',\n",
       "       'ХВАТАТЬ НА ДВОЕ СУТКИ',\n",
       "       'НА ТРЕТЬИ ОСТАЕТСЯ ЕЩЕ ПРОЦЕНТОВ ТРИДЦАТЬ ЗАРЯДКА',\n",
       "       'РАБОТА НЕ ПРИХОДИТСЯ', 'ПОЛЬЗОВАТЬСЯ ОКОЛО 2 НЕДЕЛЯ',\n",
       "       'КАМЕРА НЕ ПЛОХАЯ', 'УДОБНО СИДИТ В РУКА', 'МОЩНАЯ БАТАРЕЙКА НЕТ',\n",
       "       'ХОРОШИЙ ТЕЛЕФОНЧИК КУПИЛ ЖЕНА', 'ПОДАРОК НА Н. Н. NAN МЕЛКИЙ',\n",
       "       'КАМЕРА СИЛЬНО РАЗОЧАРОВАЛА РЕЖИМ HDR ВООБЩЕ ЛУЧШЕ',\n",
       "       'ПРОБОВАТЬ ВСЕ РЕЖИМЫ СО ВСЕВОЗМОЖНЫМИ НАСТРОЙКАМИ ВСЕ ФОТО ПОЛУЧАЮТСЯ ПОЛНЫЙ ШЛАК',\n",
       "       'ДО ЭТОТ БЫЛ', 'САМОЕ ГЛАВНОЕ', 'БАТАРЕЯ ПРОСТО ОТЛИЧНО',\n",
       "       'ПАНЕЛЬ СКРИПЕТЬ', 'ОГРОМНЫЙ ЖИРНЫЙ МИНУС КАМЕРА',\n",
       "       'ЛУЧШИЙ ТОВАР 2016 ГОД', 'ЭТО ДАННЫЙ ТЕЛЕФОН', 'МИНУС ПРОСТО НЕТ',\n",
       "       'БЫСТРЫЙ , МОЩНЫЙ ВСЕ ИГРА', 'ПРИЛОЖЕНИЕ ТЯНУТЬ', 'ХОРОШАЯ БАТАРЕЯ',\n",
       "       'ОТЛИЧНАЯ КАМЕРА', 'РАЗ НЕ ПОДВЕЛ',\n",
       "       'ЭКРАН И КОРПУС ПРОЧНЫЕ ПРИ ПАДЕНИЯХ НЕ ПОСТРАДАЛ',\n",
       "       'К ПОКУПКА РЕКОМЕНДУЮ', 'МОЩНОСТЬ НЕТ', 'БАТАРЕЯ ДЕРЖАТЬ ЧАСОВ',\n",
       "       'А ПРИ АКТИВНОМ', 'ЧТЕНИЕ ОТ 1-2 ЧАСОВ',\n",
       "       'ФИТНЕС БРАСЛЕТ НА СВЯЗИ КАЖДЫЙ', 'ХВАТИТЬ НА ЧАС',\n",
       "       'ЭКРАН ДОСТАТОЧНО ЯРКИЙ', 'ФРОМ-ФАКТОР УДОБНЫЙ', 'ДА ПЛАСТИК',\n",
       "       'ПОДЛОЖИТЬ МАЛЕНЬКИЙ КУСОЧЕК БУМАГИ И УСТРАНИЛ НЕ УДОБСТВО',\n",
       "       'АППАРАТ СТОЯТЬ', 'ПОТЕРЯ СВЯЗЬ РЕДКО БЫВАЮТ', 'АППАРАТ С ОДНИМ',\n",
       "       'СОТОВЫЙ СИГНАЛ',\n",
       "       'КАЧЕСТВО ПЕРЕДАЧА ГОЛОСА ГОВОРЯЩЕГО И СОБЕСЕДНИКА ЭКРАН НЕ ОТКЛИКАЕТСЯ',\n",
       "       'ПЕРВЫЙ КАСАНИЯ НА КОМАНДА',\n",
       "       'НЕМНОГО СКРИПЕЛ ПЛАСТИК ЗАДНЕЙ КРЫШКИ ЧУТЬ НИЖЕ КАМЕРА',\n",
       "       'ЛУЧШИЙ ТОВАР 2016 ГОД', 'БАТАРЕЯ ВСТРОЕННАЯ',\n",
       "       'ХВАТАТЬ ЕЕ НА ЦЕЛЫЙ ДЕНЬ ПРИ АКТИВНОМ ПОЛЬЗОВАНИЕ',\n",
       "       'ЯРКАЯ ВСПЫШКА', 'ФОТОГРАФИЯ ДОСТАТОЧНО КАЧЕСТВЕННЫЕ',\n",
       "       'НЕ НУЖНО С СОБОЙ НОСИТЬ ДОПОЛНИТЕЛЬНЫЕ АППАРАТ',\n",
       "       'КАМЕРА ФОКУСИРОВАТЬ И ПЕРЕДАЕТ', 'ЯРКИЙ ЦВЕТ',\n",
       "       'ПЕРЕДНЯЯ КАМЕРА ТОЖЕ РАДУЕТ', 'ГРОМКИЙ ЗВУК ЗВОНКА',\n",
       "       'НАУШНИК ЗВУК ЧИСТЫЙ', 'ЭТО ЗАВИСИТ ОТ КАЧЕСТВО НАУШНИКОВ',\n",
       "       'ОБЩИЙ В НАСТОЯЩЕЕ ВРЕМЯ Я ОЧЕНЬ ДОВОЛЬНА ДАННЫЕ АППАРАТОМ',\n",
       "       'И ВЕСЬ',\n",
       "       'ХОТЕТЬ ПРИОБРЕСТИ НЕДОРОГОЙ АППАРАТ С ХОРОШЕЙ КАМЕРОЙ И МОЩНЫМ ЗАРЯД БАТАРЕИ',\n",
       "       'СМАРТФОН КУПИТЬ',\n",
       "       'УДИВИТЕЛЬНО ОНА ОЧЕНЬ БЫСТРО ОСВОИЛА ДАННУЮ МОДЕЛЬ',\n",
       "       'ДРУЖЕЛЮБНЫЙ ИНТЕРФЕЙС', 'КАМЕРА С ВЫСОКИМ', 'ПРОЧНЫЙ КОРПУС',\n",
       "       'БАТАРЕЯ КОТОРАЯ ДЕРЖИТ ЗАРЯД НЕСКОЛЬКО ДНЕЙ И ОЧЕНЬ',\n",
       "       'ПРИВЛЕКАТЕЛЬНАЯ ЦЕНА', 'ВСЕ ПРИЛОЖЕНИЕ', 'ТИП ПОЧТОВЫЙ',\n",
       "       'ПАМЯТЬ ВПОЛНЕ ХВАТАЕТ', 'ДИЗАЙН СТАНДАРТНЫЙ',\n",
       "       'ОЧЕНЬ ДОВОЛЬНЫ ДАННОЙ МОДЕЛЬ',\n",
       "       'ОПТИМАЛЬНОЕ СООТНОШЕНИЕ ЦЕНЫ И КАЧЕСТВО ТОВАРА',\n",
       "       'СМАРТФОН ШУСТРЫЙ', 'БАТАРЕЯ ДЕРЖАТЬ ЗАРЯД НЕСКОЛЬКО',\n",
       "       'ОТЛИЧНАЯ КАМЕРА', 'ПОЛЬЗОВАТЬСЯ 3 МЕСЯЦ',\n",
       "       'ПРОБЛЕМА ПРАКТИЧЕСКО ОТСУТСТВУЮТ', 'ПОСЛЕДНЕЕ ВРЕМЯ',\n",
       "       'ПОЛЬЗОВАТЬСЯ ОКОЛО МЕСЯЦ', 'ОТЛИЧНАЯ БАТАРЕЯ',\n",
       "       'ХВАТАТЬ НА ПОЛНЫЙ ДЕНЬ', 'НЕ ВЫЛАЗИЛ ИЗ ИНТЕРНЕТ',\n",
       "       'ОСТАТЬСЯ 28% БАТАРЕЯ', 'А ТАК В СРЕДНЕМ 50-60% ОСТАЕТСЯ',\n",
       "       'ХОРОШАЯ КАМЕРА', 'ДИЗАЙН ХОРОШИЙ',\n",
       "       'ОТЛИЧНОЕ КАЧЕСТВО ДЛЯ ТАКОЙ СТОИМОСТИ ТЕЛЕФОНА МОЩНАЯ БАТАРЕЯ',\n",
       "       'НЕПЛОХАЯ КАМЕРА', 'ПОЛЬЗОВАТЬСЯ 10 МЕСЯЦ', 'ВЗЯТЬ ПОСЛЕ САМСУНГ',\n",
       "       'ВЗЯТЬ ОПЯТЬ ЭТА  ЧЕСТЬ', 'ЭТА ЦЕНА',\n",
       "       'НЕ ХВАТАЕТ ПУЛЬТА ДЛЯ ТЕЛЕВИЗОР', 'БЫТЬ БЫ СТРАННО ЗА ТАКУЮ ЦЕНА',\n",
       "       'ПОЛЬЗОВАТЬСЯ ДАННЫМ ДЕВАЙСОМ ПОРЯДКА 6 МЕСЯЦ',\n",
       "       'АППАРАТ КОТОРЫЙ НЕ ПОДВЕДЕТ',\n",
       "       'ХОТЕТЬСЯ ОТМЕТИТЬ ЕМКОСТЬ АККУМУЛЯТОРА',\n",
       "       'НОРМАЛЬНЫЙ ИСПОЛЬЗОВАНИЯ ДЛЯ ЗВОНОК', 'ЗАРЯЖАТЬ РАЗ В ДВА ДЕНЬ',\n",
       "       'ПОКУПКА БЫТЬ ПРИЯТНО УДИВЛЕН ЧТО В КОМПЛЕКТ ВХОДИТ',\n",
       "       'ЗАЩИТНАЯ ПЛЕНКА', 'БЫТЬ СОМНЕНИЯ ПО ПОВОД БЫСТРОДЕЙСТВИЯ',\n",
       "       'ДАННАЯ МОДЕЛИ СТОИТ ПРОЦЕССОР',\n",
       "       'ПРЕДШЕСТВЕННИК СТОЯТЬ ПРОЦЕССОР KIRIN КОТОРЫЙ ВЫЗЫВАЛ',\n",
       "       'БОЛЬШЕЕ ДОВЕРИЕ',\n",
       "       'СЧАСТЬЕ ЗА СЧЕТ ОБОЛОЧКИ EMUI КОТОРАЯ УСТАНОВЛЕНА НА ДАННОМ',\n",
       "       'ВСЕ РАБОТАЕТ НА ХОРОШЕМ УРОВЕНЬ', 'МОЖНО ОТМЕТИТЬ СЛАБУЮ КАМЕРА',\n",
       "       'СТОИМОСТЬ СМАРТФОН ЭТО', 'СКОРЕЕ ПРИДИРКА',\n",
       "       'ПОМЕНЯТЬ ДАННЫЙ АППАРАТ ТОЛЬКО ПО ТОМ',\n",
       "       'ЭТО ОДИН ИЗ ЛУЧШИХ ВАРИАНТОВ БЮДЖЕТНЫХ СМАРТФОНОВ В ДАННЫЙ МОМЕНТ',\n",
       "       'ПОЛЬЗОВАТЬСЯ УЖЕ ПОЧТИ МЕСЯЦ', 'ПОКУПКА ПОЛНОСТЬЮ',\n",
       "       'ПАМЯТЬ ХВАТАТЬ', 'БАТАРЕЯ ТОЖЕ ХВАТАЕТ НА ДОЛГО',\n",
       "       'АКТИВНО СЕРФИНГЕ В ИНТЕРНЕТ', 'ПРОСМОТР ВИДЕО', 'НАЧИТАТЬСЯ ОТЗЫВ',\n",
       "       'О ЧТО СИЛЬНО ПОЖАЛЕЛ', 'ПОСЛЕ ДВУХ МЕСЯЦ РАБОТЫ',\n",
       "       'СТАРАТЬСЯ НЕ ЗАГРУЖАТЬ ТЕЛЕФОН',\n",
       "       'БАТАРЕЯ ГЛЮЧИТ И ПОСТОЯННО ЗАВИСАЕТ', 'У Я УЖЕ',\n",
       "       'БЫТЬ ТЕЛЕФОН С ЕМКОЙ БАТАРЕЯ',\n",
       "       'ВРЕМЯ ОН ЗАРЯДКИ СОСТАВЛЯЛО НЕ МЕНЕЕ 5-ТИ ЧАСОВ И ДЕРЖАЛ ЗАРЯД ГОРАЗДО ХУЖЕ',\n",
       "       'ЭТОТ ЖЕ ЗАРЯЖАЕТСЯ ЗА 2 ЧАСА И ОЧЕНЬ ХОРОШО ДЕРЖИТ ЗАРЯД ОТ 2-Х ДО 4-Х ДНЕЙ БАТАРЕЙКА И СКОРОСТЬ РАБОТЫ',\n",
       "       'ЭТО МЕЛОЧЬ', 'ДОБРЫЙ ДЕНЬ', 'ПОЛЬЗОВАТЬСЯ ТЕЛЕФОНОМ ТРИ НЕДЕЛЯ',\n",
       "       'ПОКУПАТЬ ПОТОМУ ЧТО БЫЛИ НОВОГОДНИЕ КУПОН',\n",
       "       'МАГАЗИН НИЧТО ДРУГОГО НЕ НАШЕЛ', 'ПАСТЬ ИЗ ЗА БАТАРЕЯ',\n",
       "       'БАТАРЕЯ В ПРИНЦИПЕ СЕБЯ ОПРАВДЫВАЕТ',\n",
       "       'КАЧЕСТВО ЭКРАН КОНЕЧНО НЕ ТАКОЕ', 'ХОРОШЕЕ КАК НА САМСУНГ',\n",
       "       'ЦВЕТОПЕРЕДАЧА И ЯРКОСТЬ У САМСУНГА В РАЗЫ ЛУЧШЕ',\n",
       "       'КАМЕРА ТОЖЕ ХИЛЕНЬКАЯ', 'ОЖИДАТЬ БОЛЬШЕЕ',\n",
       "       'ФЛЕШКА ПРИ ПОДКЛЮЧЕНИИ НЕ ВИДИТ', 'РАЗНЫЙ НО НЕТ',\n",
       "       'САМСУНГ КНОПОЧНЫЙ ЭТИ ФЛЕШКИ ВИДЕЛ',\n",
       "       'СЕНСОР ПОСЛЕ НАКЛЕЙКИ СТЕКЛА ПЛОХО ОТКЛИКАЛСЯ',\n",
       "       'БЛАГО В НАСТРОЙКАХ МОЖНО',\n",
       "       'ЕЩЕ ЗАМЕТИЛ ЧТО ЕСЛИ ТЕЛЕФОН ЛЕЖИТ И ПОТ', 'ТО ПРИ ВКЛЮЧЕНИЕ',\n",
       "       'ЭКРАН ВИДНО ЧТО WI-FI ОТКЛЮЧЕН И ИЩЕТ СЕТЬ ЗАНОВО',\n",
       "       'НАВЕРНО ЭТО СДЕЛАНО ДЛЯ ЭКОНОМИЯ БАТАРЕИ',\n",
       "       'ЕЩЕ УЖЕ ТРЕТИЙ ДЕНЬ В НАСТРОЙКАХ НЕ МОГУ НАЙТИ БУДИЛЬНИК НЕПЛОХАЯ БАТАРЕЯ КАМЕРА',\n",
       "       'ПРОИЗВОДИТЕЛЬ ЗАВЫСИТЬ',\n",
       "       'ЦВЕТОПЕРЕДАЧА ЭКРАН ОСТАВЛЯЕТ ЖЕЛАТЬ ЛУЧШЕГО',\n",
       "       'ДЕНЬ ИСКАТЬ БУДИЛЬНИК ТАК И НЕ НАШЕЛ', 'ОДИН ДИНАМИК',\n",
       "       'ФОРМАТ WMA НЕ ВИДИТ', 'БОЛЬШЕ ВСЕГО МНЕ НРАВИТСЯ БАТАРЕЯ',\n",
       "       'НОРМАЛЬНЫЙ ПОЛЬЗОВАНИЕ', 'ЦЕЛЫЙ ДЕНЬ В ИНЕТ',\n",
       "       'ХВАТАТЬ ПОЧТИ НА ДВА ДЕНЬ', 'ПАМЯТЬ ВНУТРЕННЯЯ ДОСТАТОЧНО',\n",
       "       'ДО СЕЙ ПОР ЕСТЬ', 'ВСЕ ИГРУШКА',\n",
       "       'ЛЮБОЙ ПРИЛОЖЕНИЯ ВСЕ РАБОТАЕТ БЕЗ ТОРМОЗ', 'ТАКОЙ ЦЕНЫ НА ТЕЛЕФОН',\n",
       "       'ЭКРАН НА СОЛНЦЕ НЕ СИЛЬНО БЛИКУЕТ', 'КАРТИНКА ВПОЛНЕ',\n",
       "       'СЕНСОР НЕМНОГО', 'ЭКРАН НЕМНОГО', 'ДУМАТЬ ДЕЛО В ЗАЩИТНОМ СТЕКЛО',\n",
       "       'ИТОГ ЗРЯ', 'ВЫКИНУТЬ 500 РУБ ЗА СТЕКЛО',\n",
       "       'ЭТА СУММА НИЧЕГО ХОРОШЕГО Я НЕ НАШЕЛ', 'НА СЛЕДУЮЩУЮ МОДЕЛЬ',\n",
       "       'НЕДОСТАТОК МОЖНО НАЙТИ ВО ВСЕМ', 'ОЧЕНЬ ХОРОШАЯ БАТАРЕЙКА',\n",
       "       'СЕНСОР Я НЕ НРАВИТСЯ', 'ПОДРОСТОК САМЫЙ ВАРИАНТ И ЦЕНА НАМНОГО',\n",
       "       'НИЖЕ ЧЕМ КАЧЕСТВО',\n",
       "       'ПИСАТЬ КРЫШКА СКРИПИТ Я ДУМАЮ ЭТО ДАЖЕ ЗА МИНУС МОЖНО НЕ СЧИТАТЬ КАК УЖ',\n",
       "       'МОЖНО БУМАЖЕЧКА',\n",
       "       'БАТАРЕЯ ДЕРЖАТЬ ЧАСОВ 55-60 С ВКЛЮЧЕННЫМ ИНТЕРНЕТОМ ХОТЯ Я ПЕРИОДИЧЕСКИ ИГРАЮ',\n",
       "       'СОВЕТОВАТЬ КАМЕРА', 'СЕНСОР ПОКА'], dtype=object)"
      ]
     },
     "execution_count": 110,
     "metadata": {},
     "output_type": "execute_result"
    }
   ],
   "source": [
    "sublist"
   ]
  },
  {
   "cell_type": "code",
   "execution_count": 107,
   "metadata": {
    "collapsed": false
   },
   "outputs": [],
   "source": [
    "sublist[0]\n",
    "slAll=list()\n",
    "for sl in sublist:\n",
    "    #print(sl)\n",
    "    #print(type(sl))\n",
    "    slAll.append(normalize(sl))\n",
    "   # print(sl + normalize(sl))"
   ]
  },
  {
   "cell_type": "code",
   "execution_count": 189,
   "metadata": {
    "collapsed": false
   },
   "outputs": [
    {
     "name": "stdout",
     "output_type": "stream",
     "text": [
      "0    [[АККУМУЛЯТОР, ОЧЕНЬ ПОРАДОВАЛ АККУМУЛЯТОР], [...\n",
      "1    [[ДИЗАЙН, ОТЛИЧНЫЙ ДИЗАЙН], [ЭКРАН, ЯРКИЙ ЭКРА...\n",
      "Name: fullText, dtype: object\n",
      "##################################################\n",
      "1323\n",
      "tomita\n",
      "##################################################\n",
      "finishrechec\n",
      "[('НЕ ТОРМОЗИТ 2 АККУМУЛЯТОР ДОЛГОИГРАЮЩИЙ 3 4G ВЕЗДЕ ЛОВИТ 4 ОТЛИЧНЫЙ ЗВУК 5 ХОРОШАЯ КАМЕРА 6 ANDROID LOLLIPOP 5.1 ПОЗВОЛЯЕТ ПРОСМОТРЕТЬ И ЗАНЯТОСТИ ОЗУ И ЗАКРЫТЬ ЛИШНИЕ ПРИЛОЖЕНИЕ', 0.749177363962512), ('ИМЕТЬ БОЛЬШУЮ ЁМКОСТЬ БАТАРЕИ КОТОРОЙ ХВАТАЕТ НА 1,5 ДНЯ ЭТО ЕЩЁ АККУМУЛЯТОР НОРМАЛЬНО НЕ ЗАРЯЖАЛСЯ ПОЛНОСТЬЮ ВЕСЬ ЦИКЛ', 0.67133437687934), ('ВЕСЬ ПРОЧЕМУ В МАГАЗИНЕ КАК ОБЫЧНО НЕТ НИКАКИХ АКСЕССУАРОВ К ТАКИМ БЮДЖЕТНЫМ ТЕЛЕФОН', 0.5387976730097621), ('ТЕЛЕФОН ПАР РАЗ ЗАВИСАЛ НА ПУСТОМ МЕСТЕ ЗАВИСАЛ НА ГЛУХО НО ЭТО ПО ХОДУ ПРОБЛЕМА СЛАБОГО', 0.5207173823853711), ('ОДИН ОГРОМНЫЙ ПЛЮС ЭТО ЗАРЯДКУ ДЕРЖИТ ОЧЕНЬ ДОЛГО', 0.489820380081077), ('ПОЛЬЗОВАТЬСЯ ТРЕТИЙ ДЕНЬ И ПОКА НЕ НАШЛА НИ ОДНОГО МИНУС', 0.4670416062879946), ('БАТАРЕЯ БЕЗ ПРОБЛЕМ ДЕРЖИТ ДНЯ ДВА АКТИВНОГО', 0.42408767386465657), ('МОЖНО ДОБАВИТЬ ТОЛЬКО 1 НОМЕР ТЕЛЕФОНА И ФОТО', 0.4231160826927612), ('КАМЕРА ОЧЕНЬ ДАЖЕ НЕ ПЛОХИЕ', 0.41720018843132634), ('ПЛАСТИК И ЧЕРЕЗ ПОЛ ГОДА РАБОТЫ ВЫГЛЯДИТ УЖЕ ОЧЕНЬ УСТАВШИМ', 0.41145149847024814)]\n",
      "СЕРВЕР ПОДКЛЮЧАЮСЬ НЕ ХОЧЕТ\n",
      "СЕРВЕР ВХОДЯЩАЯ\n",
      "СЕРВЕР ИСХОДЯЩАЯ\n",
      "('сервер', 0.12117530603387838)\n",
      "ТЕЛЕФОН Я ПРОСТО РАЗОЧАРОВАЛ\n",
      "ТЕЛЕФОН ПОРАДОВАТЬ\n",
      "ТЕЛЕФОН ЗА СВОИ\n",
      "ВЕСЬ ПРОЧЕМУ В МАГАЗИНЕ КАК ОБЫЧНО НЕТ НИКАКИХ АКСЕССУАРОВ К ТАКИМ БЮДЖЕТНЫМ ТЕЛЕФОН\n",
      "ЭТОТ ТЕЛЕФОН\n",
      "ТЕЛЕФОН МОЩНЫЙ\n",
      "ТЕЛЕФОН СУПЕР\n",
      "ТЕЛЕФОН ПРОСТО СУПЕР\n",
      "ТЕЛЕФОН ШУСТРЫЙ\n",
      "ХОРОШИЙ ТЕЛЕФОН\n",
      "ДЮЙМОВЫЙ ТЕЛЕФОН\n",
      "ТЕЛЕФОН ПАР РАЗ ЗАВИСАЛ НА ПУСТОМ МЕСТЕ ЗАВИСАЛ НА ГЛУХО НО ЭТО ПО ХОДУ ПРОБЛЕМА СЛАБОГО\n",
      "ТЕЛЕФОН ПРОДОЛЖИТЬ НОРМАЛЬНО\n",
      "ТЕЛЕФОН СОВЕТОВАТЬ И ЦЕНА У НЕГО ПРИЕМЛЕМАЯ И САМА\n",
      "('телефон', 0.12029089635883936)\n",
      "БАТАРЕЯ БЕЗ ПРОБЛЕМ ДЕРЖИТ ДНЯ ДВА АКТИВНОГО\n",
      "ДОСТАТОЧНО ЕМКАЯ БАТАРЕЯ\n",
      "БАТАРЕЯ МЫ НЕ ПОДРУЖИЛИСЬ\n",
      "БАТАРЕЯ СПАСИБО ЗА 5 ДЮЙМОВ ТОЖЕ\n",
      "БАТАРЕЯ ОЧЕНЬ ДОЛГО ДЕРЖИТСЯ\n",
      "ОТЛИЧНАЯ БАТАРЕЯ\n",
      "НЕСЪЁМНАЯ БАТАРЕЯ\n",
      "БАТАРЕЯ ДОЛГОИГРАЮЩАЯ\n",
      "ХОРОШАЯ БАТАРЕЯ\n",
      "('батарея', 0.10055077299357419)\n",
      "КАМЕРА ЧЕТКАЯ\n",
      "ХОРОШАЯ КАМЕРА\n",
      "КАМЕРА ОЧЕНЬ ДАЖЕ НЕ ПЛОХИЕ\n",
      "КАМЕРА И ТЫЛОВАЯ И ФРОНТАЛЬНАЯ ТОЖЕ РАДУЮТ\n",
      "ХОРОШАЯ КАМЕРА\n",
      "ТАКЖЕ ДОСТАТОЧНО ХОРОШАЯ КАМЕРА\n",
      "КАМЕРА ОТЛИЧНАЯ\n",
      "ХОРОШАЯ КАМЕРА\n",
      "ХОРОШАЯ КАМЕРА\n",
      "ФРОНТАЛЬНАЯ КАМЕРА\n",
      "ПЕРВОЕ ЭТО КАМЕРА\n",
      "('камера', 0.09932519325389236)\n",
      "ПОЛЬЗОВАТЬСЯ НЕСКОЛЬКО ДЕНЬ\n",
      "АКТИВНЫЙ ИСПОЛЬЗОВАНИИ ХВАТАЕТ НА 2 ДЕНЬ\n",
      "ТО 3 ДЕНЬ\n",
      "ДЕНЬ И БОЛЬШЕ НЕ ВКЛЮЧИЛСЯ\n",
      "СТАБИЛЬНО ДЕНЬ\n",
      "ТО ДО 7 ДЕНЬ\n",
      "ДУМАТЬ ЗАЯВЛЕННЫЕ 2 ДЕНЬ\n",
      "('день', 0.09413349630818824)\n",
      "КУПИТЬ СЕБЕ ТЕЛО\n",
      "ТЕЛО САМ ВСЕ МЕНЯЕТ\n",
      "ТЕЛО МОЧЬ ПОСТАВИТЬ ВООБЩЕ\n",
      "('тело', 0.08416210748632377)\n",
      "НЕ МОГУ ОТНЕСТИ К ПЛЮС\n",
      "ТОЛЬКО ПЛЮС\n",
      "ПЛЮС СОВСЕМ НЕ МНОГО\n",
      "('плюс', 0.07833000744024755)\n",
      "СТАВИТЬ НА ЗВОНОК К КОНТАКТ\n",
      "('контакт', 0.07491172829277921)\n"
     ]
    }
   ],
   "source": [
    "maxCount =15\n",
    "print(tomitaCol)\n",
    "print\n",
    "for ind in indList[1:]:\n",
    "    print(\"#\"*50)\n",
    "    print(ind)\n",
    "    col = densM[ind]\n",
    "    col = col.tolist()[0]\n",
    "    valD = { ftNames[i]:v for i,v in enumerate(col) if v>0  }\n",
    "    sorted_topWords = sorted(valD.items(), key=operator.itemgetter(1), reverse=True)\n",
    "    sorted_topWords = [ s for s in sorted_topWords if len(s[0])>3]\n",
    "    dict_r = { s[0]:s[1] for s in sorted_topWords}\n",
    " #   print(dict_r)\n",
    "    print(\"tomita\")\n",
    "    tomitaD = textAndProdGrS_test[textAndProdGrS_test[tovarIdColName] == textAndProdGrS_All.iloc[ind][tovarIdColName]]['tomita']\n",
    " #   print(tomitaD.tolist())\n",
    "    sublist = list([x[::,0] for x in tomitaD.values][0])\n",
    "    #print(sublist)\n",
    "\n",
    "#    print(sublist)\n",
    "    set_ret = dict()\n",
    "    print(\"#\"*50)\n",
    "    tomitaPairs = tomitaD.tolist()[0]\n",
    "\n",
    "    for ts in tomitaPairs:\n",
    "        ret =0\n",
    "        tsn = normalize(ts[0])\n",
    "        if tsn in dict_r.keys():\n",
    "            ret+=dict_r[tsn]\n",
    "        for tsPr in ts[1].split(\" \"):\n",
    "            tsPrn = normalize(tsPr)\n",
    "            #print(tsPrn)\n",
    "            if tsPrn in dict_r.keys():\n",
    "             #   print(\"yes\")\n",
    "                ret+=dict_r[tsPrn]\n",
    "        set_ret[ts[1]]=ret\n",
    "    print(\"finishrechec\")\n",
    "    sorted_sent = sorted(set_ret.items(), key=operator.itemgetter(1), reverse=True)\n",
    "    print(sorted_sent[0:10])\n",
    "    #tomitaD = tomitaD.tolist()[0]\n",
    "\n",
    "    slAll=list()\n",
    "    for sl in sublist:\n",
    "        #print(sl)\n",
    "        #print(type(sl))\n",
    "        slAll.append(normalize(sl))\n",
    "                      #s) for sls in sl.split)\n",
    "    #print(slAll[1])\n",
    "    for w in sorted_topWords[:maxCount]: \n",
    "        #print(w[0])\n",
    "\n",
    "        if normalize(w[0]) in slAll:\n",
    "     #       print(w)\n",
    "            was = False \n",
    "            for tw in tomitaPairs:\n",
    "              #  print(tw[0])\n",
    "                if tw[0] == w[0].upper(): \n",
    "                    was=True \n",
    "                    print(tw[1]) \n",
    "            if was:\n",
    "                print(w)\n",
    "\n",
    "    "
   ]
  },
  {
   "cell_type": "code",
   "execution_count": null,
   "metadata": {
    "collapsed": true
   },
   "outputs": [],
   "source": [
    "ind = 1003\n",
    "#print(textAndProdGrS[textColName].iloc[ind])\n",
    "tomitaCol[ind]"
   ]
  },
  {
   "cell_type": "code",
   "execution_count": null,
   "metadata": {
    "collapsed": true
   },
   "outputs": [],
   "source": [
    "tfidf = fex.TfidfVectorizer()"
   ]
  },
  {
   "cell_type": "code",
   "execution_count": null,
   "metadata": {
    "collapsed": true
   },
   "outputs": [],
   "source": [
    "tfIdfMatrix = tfidf.fit_transform(textAndProdGrSnORM)\n",
    "ftNames = tfidf.get_feature_names()"
   ]
  },
  {
   "cell_type": "code",
   "execution_count": null,
   "metadata": {
    "collapsed": false
   },
   "outputs": [],
   "source": [
    "densM = tfIdfMatrix.todense()\n",
    "densM.shape"
   ]
  },
  {
   "cell_type": "code",
   "execution_count": null,
   "metadata": {
    "collapsed": false
   },
   "outputs": [],
   "source": [
    "sublist = [x[::, 0] for x in tomitaCol.values]"
   ]
  },
  {
   "cell_type": "code",
   "execution_count": null,
   "metadata": {
    "collapsed": true
   },
   "outputs": [],
   "source": []
  },
  {
   "cell_type": "code",
   "execution_count": null,
   "metadata": {
    "collapsed": false
   },
   "outputs": [],
   "source": [
    "slAll=list()\n",
    "for sl in sublist:\n",
    "    type(sl)\n",
    "    slAll.append(list(sl))"
   ]
  },
  {
   "cell_type": "code",
   "execution_count": null,
   "metadata": {
    "collapsed": false
   },
   "outputs": [],
   "source": []
  },
  {
   "cell_type": "code",
   "execution_count": null,
   "metadata": {
    "collapsed": false
   },
   "outputs": [],
   "source": [
    "sublistInd = [i for i,n in enumerate(ftNames)  if n.upper() in slAll  ]"
   ]
  },
  {
   "cell_type": "code",
   "execution_count": null,
   "metadata": {
    "collapsed": false
   },
   "outputs": [],
   "source": [
    "sublistInd"
   ]
  },
  {
   "cell_type": "code",
   "execution_count": null,
   "metadata": {
    "collapsed": true
   },
   "outputs": [],
   "source": []
  }
 ],
 "metadata": {
  "kernelspec": {
   "display_name": "Python 3",
   "language": "python",
   "name": "python3"
  },
  "language_info": {
   "codemirror_mode": {
    "name": "ipython",
    "version": 3
   },
   "file_extension": ".py",
   "mimetype": "text/x-python",
   "name": "python",
   "nbconvert_exporter": "python",
   "pygments_lexer": "ipython3",
   "version": "3.6.0"
  }
 },
 "nbformat": 4,
 "nbformat_minor": 2
}
